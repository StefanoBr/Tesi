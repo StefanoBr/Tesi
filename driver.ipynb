{
 "cells": [
  {
   "cell_type": "markdown",
   "id": "ac92280e-c591-4534-a38b-b5f25235d173",
   "metadata": {},
   "source": [
    "# This code allow to run other ipynb codes on batch of data"
   ]
  },
  {
   "cell_type": "markdown",
   "id": "612229c2-ffc2-4c3b-a033-c508e9cd7cd7",
   "metadata": {},
   "source": [
    "## Processing"
   ]
  },
  {
   "cell_type": "markdown",
   "id": "9dde870e",
   "metadata": {},
   "source": [
    "### Import Libraries"
   ]
  },
  {
   "cell_type": "code",
   "execution_count": 24,
   "id": "d689796c",
   "metadata": {},
   "outputs": [],
   "source": [
    "import papermill as pm\n",
    "import ipywidgets as widgets"
   ]
  },
  {
   "cell_type": "markdown",
   "id": "2a27866e",
   "metadata": {},
   "source": [
    "### Input Definition"
   ]
  },
  {
   "cell_type": "code",
   "execution_count": 25,
   "id": "8e3e0f5b",
   "metadata": {},
   "outputs": [],
   "source": [
    "total_samples = 5000"
   ]
  },
  {
   "cell_type": "markdown",
   "id": "75a63602",
   "metadata": {},
   "source": [
    "#### Season Selection"
   ]
  },
  {
   "cell_type": "code",
   "execution_count": null,
   "id": "516d6d79",
   "metadata": {},
   "outputs": [],
   "source": [
    "date_s2_w = widgets.Dropdown(\n",
    "    options=['Summer', 'Winter', 'Intermediate'],\n",
    "    value='Summer',\n",
    "    description='Sentinel-2 date:',\n",
    "    disabled=False,\n",
    "    layout={'width': 'max-content'},\n",
    "    style = {'description_width': 'initial'}\n",
    ")\n",
    "date_s2_w"
   ]
  },
  {
   "cell_type": "code",
   "execution_count": null,
   "id": "f2213e5a",
   "metadata": {},
   "outputs": [],
   "source": [
    "date_s2 = date_s2_w.value\n",
    "\n",
    "if (date_s2 == \"Summer\"):\n",
    "    date_list=['2016-09-29',\n",
    "                '2017-08-15',\n",
    "                '2018-07-31',\n",
    "                '2018-08-15',\n",
    "                '2019-07-16',\n",
    "                '2020-07-20',\n",
    "                '2022-07-10',\n",
    "                '2022-07-25',\n",
    "                '2022-08-09',\n",
    "                '2023-06-25',\n",
    "                '2024-07-14',\n",
    "                '2024-07-29']\n",
    "    \n",
    "elif (date_s2 == \"Winter\"):\n",
    "    date_list=['2017-02-16',\n",
    "                '2021-01-11',\n",
    "                '2021-02-25',\n",
    "                '2023-01-31',\n",
    "                '2023-02-15',\n",
    "                '2023-03-22',\n",
    "                '2024-02-05']\n",
    "else:\n",
    "    date_list=['2015-11-24',\n",
    "                '2017-04-22',\n",
    "                '2017-10-14',\n",
    "                '2017-11-18',\n",
    "                '2018-04-22',\n",
    "                '2018-10-19',\n",
    "                '2020-04-11',\n",
    "                '2020-11-22',\n",
    "                '2021-10-13',\n",
    "                '2023-11-17',\n",
    "                '2024-05-10']\n",
    "    \n",
    "print(\"Dates Selected:\", date_list)"
   ]
  },
  {
   "cell_type": "markdown",
   "id": "815437a9",
   "metadata": {},
   "source": [
    "### Processing"
   ]
  },
  {
   "cell_type": "markdown",
   "id": "72d8de28",
   "metadata": {},
   "source": [
    "#### Samples Splitting"
   ]
  },
  {
   "cell_type": "code",
   "execution_count": null,
   "id": "fa0fae7e",
   "metadata": {},
   "outputs": [],
   "source": [
    "# Step 1: Base samples per image\n",
    "base = total_samples // len(date_list)\n",
    "remainder = total_samples % len(date_list)\n",
    "\n",
    "# Step 2: Create list of sample counts\n",
    "samples_per_image_list = [base + 1 if i < remainder else base for i in range(len(date_list))]\n",
    "print(f\"Sample counts: {samples_per_image_list}\")\n",
    "print(f\"Total: {sum(samples_per_image_list)}\")"
   ]
  },
  {
   "cell_type": "markdown",
   "id": "22226c6d",
   "metadata": {},
   "source": [
    "#### Samples Extraction"
   ]
  },
  {
   "cell_type": "code",
   "execution_count": null,
   "id": "2c36b291",
   "metadata": {},
   "outputs": [],
   "source": [
    "for d, n_samples in zip(date_list, samples_per_image_list):\n",
    "    print(f\"Executing for {d} with {n_samples} samples\")\n",
    "    pm.execute_notebook(\n",
    "        \"\\processing-checkpoints.ipynb\",\n",
    "        f\"\\output_processing\\{d}_processing_{n_samples}_samples_{total_samples}.ipynb\",\n",
    "        parameters={\n",
    "            \"date_s2_w\": d,\n",
    "            \"season\": date_s2_w.value,\n",
    "            \"total_samples\": n_samples,\n",
    "            \"combined\" : total_samples\n",
    "        },\n",
    "    )"
   ]
  },
  {
   "cell_type": "code",
   "execution_count": null,
   "id": "c74e2fc1",
   "metadata": {},
   "outputs": [],
   "source": [
    "import geopandas as gpd\n",
    "import pandas as pd\n",
    "import glob\n",
    "import os\n",
    "\n",
    "# Folder containing the per-image GPKG files\n",
    "input_folder = \"masks/\"\n",
    "output_file = \"combined_sampled_points.gpkg\"\n",
    "\n",
    "# Pattern to match all sampled_points_*.gpkg files\n",
    "gpkg_files = glob.glob(os.path.join(input_folder, f\"{date_s2_w.value}_sampled_points_*.gpkg\"))\n",
    "print(len(gpkg_files))\n",
    "# Load and combine all GeoPackages\n",
    "gdf_list = []\n",
    "for file in gpkg_files:\n",
    "    print(f\"Loading {file}\")\n",
    "    gdf = gpd.read_file(file)\n",
    "    \n",
    "    # Optional: extract the date from the filename and add it as a column\n",
    "    date_str = os.path.basename(file).split(\"_\")[-1].replace(\".gpkg\", \"\")\n",
    "    #gdf[\"date\"] = date_str\n",
    "    \n",
    "    gdf_list.append(gdf)\n",
    "\n",
    "# Concatenate into a single GeoDataFrame\n",
    "combined_gdf = gpd.GeoDataFrame(pd.concat(gdf_list, ignore_index=True), crs=gdf_list[0].crs)\n",
    "\n",
    "# Save combined file\n",
    "combined_gdf.to_file(output_file, driver=\"GPKG\")\n",
    "print(f\"\\nCombined GeoPackage saved as: {output_file}\")"
   ]
  },
  {
   "cell_type": "markdown",
   "id": "d1541089",
   "metadata": {},
   "source": [
    "# Model"
   ]
  },
  {
   "cell_type": "markdown",
   "id": "a0b91643",
   "metadata": {},
   "source": [
    "## Model by season"
   ]
  },
  {
   "cell_type": "markdown",
   "id": "fb160fda",
   "metadata": {},
   "source": [
    "### Import Libraries"
   ]
  },
  {
   "cell_type": "code",
   "execution_count": 2,
   "id": "e5c0d767",
   "metadata": {},
   "outputs": [],
   "source": [
    "import papermill as pm\n",
    "import ipywidgets as widgets"
   ]
  },
  {
   "cell_type": "markdown",
   "id": "9f32d7c6",
   "metadata": {},
   "source": [
    "### Input Definition"
   ]
  },
  {
   "cell_type": "code",
   "execution_count": null,
   "id": "1fa92a35",
   "metadata": {},
   "outputs": [],
   "source": [
    "total_samples = 5000"
   ]
  },
  {
   "cell_type": "markdown",
   "id": "d606484e",
   "metadata": {},
   "source": [
    "#### Season Selection"
   ]
  },
  {
   "cell_type": "code",
   "execution_count": null,
   "id": "f96febe7",
   "metadata": {},
   "outputs": [],
   "source": [
    "season_s2_w = widgets.Dropdown(\n",
    "    options=['Summer', 'Winter', 'Intermediate'],\n",
    "    value='Summer',\n",
    "    description='Season:',\n",
    "    disabled=False,\n",
    "    layout={'width': 'max-content'},\n",
    "    style = {'description_width': 'initial'}\n",
    ")\n",
    "season_s2_w"
   ]
  },
  {
   "cell_type": "code",
   "execution_count": null,
   "id": "304e1581",
   "metadata": {},
   "outputs": [],
   "source": [
    "season_s2 = season_s2_w.value\n",
    "\n",
    "if (season_s2 == \"Summer\"):\n",
    "    date_s2=['2023-06-25']\n",
    "elif (season_s2 == \"Winter\"):\n",
    "    date_s2=['2023-03-22']\n",
    "else:\n",
    "    date_s2=['2023-11-17']\n",
    "    \n",
    "print(\"Dates Selected:\", date_s2)"
   ]
  },
  {
   "cell_type": "markdown",
   "id": "ed5df9fb",
   "metadata": {},
   "source": [
    "### Modelling"
   ]
  },
  {
   "cell_type": "code",
   "execution_count": null,
   "id": "7377c982",
   "metadata": {},
   "outputs": [],
   "source": [
    "pm.execute_notebook(\n",
    "    \"\\model-training-season.ipynb\",\n",
    "    f\"\\output_model/{d}_model_{total_samples}_samples.ipynb\",\n",
    "    parameters={\"date_s2\": date_s2[0],\n",
    "            \"season\": season_s2,\n",
    "            \"total_samples\": total_samples\n",
    "    },\n",
    ")"
   ]
  },
  {
   "cell_type": "markdown",
   "id": "502e4a1d",
   "metadata": {},
   "source": [
    "## All seasonal models"
   ]
  },
  {
   "cell_type": "markdown",
   "id": "ea2fc151",
   "metadata": {},
   "source": [
    "### Import Libraries"
   ]
  },
  {
   "cell_type": "code",
   "execution_count": null,
   "id": "1be5f3cc",
   "metadata": {},
   "outputs": [],
   "source": [
    "import papermill as pm"
   ]
  },
  {
   "cell_type": "markdown",
   "id": "8c138c8c",
   "metadata": {},
   "source": [
    "### Input Definition"
   ]
  },
  {
   "cell_type": "code",
   "execution_count": null,
   "id": "7d33219c",
   "metadata": {},
   "outputs": [],
   "source": [
    "season_list = [\"Summer\", \"Winter\", \"Intermediate\"]\n",
    "date_list = ['2023-06-25', '2023-03-22', '2023-11-17']"
   ]
  },
  {
   "cell_type": "markdown",
   "id": "19c8c240",
   "metadata": {},
   "source": [
    "### Modelling"
   ]
  },
  {
   "cell_type": "code",
   "execution_count": null,
   "id": "43a169fd",
   "metadata": {},
   "outputs": [],
   "source": [
    "for s in (season_list):\n",
    "    pm.execute_notebook(\n",
    "        \"\\model-training-season.ipynb\",\n",
    "        f\"\\output_model/{s}_model_{total_samples}_samples.ipynb\",\n",
    "        parameters={\"date_s2\": date_list[s],\n",
    "                \"season\": season_list[s],\n",
    "                \"total_samples\": total_samples\n",
    "        },\n",
    "    )"
   ]
  }
 ],
 "metadata": {
  "kernelspec": {
   "display_name": "Tesi",
   "language": "python",
   "name": "python3"
  },
  "language_info": {
   "codemirror_mode": {
    "name": "ipython",
    "version": 3
   },
   "file_extension": ".py",
   "mimetype": "text/x-python",
   "name": "python",
   "nbconvert_exporter": "python",
   "pygments_lexer": "ipython3",
   "version": "3.9.20"
  }
 },
 "nbformat": 4,
 "nbformat_minor": 5
}
