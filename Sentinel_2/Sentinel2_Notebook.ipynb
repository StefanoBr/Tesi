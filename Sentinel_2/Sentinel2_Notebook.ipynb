{
 "cells": [
  {
   "cell_type": "markdown",
   "metadata": {},
   "source": [
    "Donwload the SCL band from all data in Sentinel2-L2A collection over a defined AoI"
   ]
  },
  {
   "cell_type": "code",
   "execution_count": null,
   "metadata": {},
   "outputs": [],
   "source": [
    "import openeo\n",
    "import json\n",
    "import os\n",
    "import importlib\n",
    "import functions\n",
    "import matplotlib.pyplot as plt"
   ]
  },
  {
   "cell_type": "code",
   "execution_count": null,
   "metadata": {},
   "outputs": [],
   "source": [
    "# Enstablish a connection with the selected openEO provider and log-in\n",
    "connection = openeo.connect(\"https://openeo.dataspace.copernicus.eu/openeo/1.2\")\n",
    "connection.authenticate_oidc() # The first time you run this line will trigger the authentication via a provided link"
   ]
  },
  {
   "cell_type": "code",
   "execution_count": null,
   "metadata": {},
   "outputs": [],
   "source": [
    "# Save a list of all collection in the selected openEO provider\n",
    "ListOfCollections = connection.list_collections()\n",
    "ListOfCollectionsTxtPath = r\"E:\\TESI\\OpenEO\\Output\\List_of_collections.txt\"\n",
    "with open(ListOfCollectionsTxtPath, \"w\", encoding=\"utf-8\") as f:\n",
    "    f.write(json.dumps(ListOfCollections, indent=4))\n",
    "print(f\"File salvato in: {ListOfCollectionsTxtPath}\")"
   ]
  },
  {
   "cell_type": "code",
   "execution_count": null,
   "metadata": {},
   "outputs": [],
   "source": [
    "# In this case we will use the SENTINEL2_2LA collection. For further informations about it, un-comment and run the next line of code.\n",
    "#connection.describe_collection(\"SENTINEL2_L2A\")\n",
    "#connection.describe_collection(\"SENTINEL2_L1C\")"
   ]
  },
  {
   "cell_type": "code",
   "execution_count": null,
   "metadata": {},
   "outputs": [],
   "source": [
    "ListOfProcesses = connection.list_processes()\n",
    "ListOfProcessesTxtPath = r\"E:\\TESI\\OpenEO\\Output\\List_of_processes.txt\"\n",
    "with open(ListOfProcessesTxtPath, \"w\", encoding=\"utf-8\") as f:\n",
    "    f.write(json.dumps(ListOfProcesses, indent=4))\n",
    "print(f\"File salvato in: {ListOfProcessesTxtPath}\")"
   ]
  },
  {
   "cell_type": "code",
   "execution_count": null,
   "metadata": {},
   "outputs": [],
   "source": [
    "importlib.reload(functions)\n",
    "aoiPath = r\"E:\\TESI\\BBOX\\Definitiva\"\n",
    "outputFolder = r\"E:\\TESI\\OpenEO\\Output\\SCL\"\n",
    "\n",
    "# start_date = \"2015-12-31\"\n",
    "# end_date = \"2017-12-31\"\n",
    "# start_date = \"2017-12-31\"\n",
    "# end_date = \"2019-12-31\"\n",
    "# start_date = \"2019-12-31\"\n",
    "# end_date = \"2021-12-31\"\n",
    "# start_date = \"2021-12-31\"\n",
    "# end_date = \"2023-12-31\"\n",
    "start_date = \"2023-12-31\"\n",
    "end_date = \"2024-12-31\"\n",
    "\n",
    "datacube = functions.compute_cloud_percentage(aoiPath, start_date = start_date, end_date = end_date, output_folder = outputFolder)\n",
    "output_filename = f\"Sentinel2_SCL_{start_date}_to_{end_date}.nc\"\n",
    "output_file_path = os.path.join(outputFolder, output_filename)\n",
    "\n",
    "# Save the datacube as a NetCDF file\n",
    "print(f\"Saving datacube to {outputFolder}...\")\n",
    "job = datacube.execute_batch(outputfile=output_file_path, out_format=\"NetCDF\")\n",
    "print(job.logs())"
   ]
  },
  {
   "cell_type": "code",
   "execution_count": null,
   "metadata": {},
   "outputs": [],
   "source": [
    "# Open the NetCDF file\n",
    "#nc_file_path = r\"E:\\TESI\\OpenEO\\Output\\SCL\\openEO.nc\"\n",
    "#nc_file_path = r\"E:\\TESI\\OpenEO\\Output\\SCL\\Sentinel2_SCL_2017-12-31_to_2019-12-31.nc\"\n",
    "#nc_file_path = r\"E:\\TESI\\OpenEO\\Output\\SCL\\Sentinel2_SCL_2019-12-31_to_2021-12-31.nc\"\n",
    "#nc_file_path = r\"E:\\TESI\\OpenEO\\Output\\SCL\\Sentinel2_SCL_2021-12-31_to_2023-12-31.nc\"\n",
    "nc_file_path = r\"E:\\TESI\\OpenEO\\Output\\SCL\\Sentinel2_SCL_2023-12-31_to_2024-12-31.nc\"\n",
    "\n",
    "dataset = xr.open_dataset(nc_file_path)\n",
    "\n",
    "# Assuming the NetCDF file contains a variable that holds the image data, \n",
    "# let's print the dataset variables to inspect it.\n",
    "print(\"1:\", dataset.dims)\n",
    "print(\"2:\", dataset.coords)\n",
    "print(\"3:\", dataset.attrs)  # Dataset-level attributes\n",
    "print(\"4:\", dataset['SCL'])\n",
    "print(\"5:\", dataset['crs'])\n",
    "print(\"6:\", dataset['SCL'].attrs)\n",
    "print(\"7:\", dataset)\n",
    "\n",
    "# Extract the first image (assuming the first variable in the dataset contains the image data)\n",
    "# For example, if the variable is named 'SCL', use the name of the variable from your NetCDF file.\n",
    "first_image = dataset['SCL'][0, :, :]  # Adjust this based on the actual variable name.\n",
    "\n",
    "# Plot the first image\n",
    "plt.imshow(first_image, cmap='viridis')\n",
    "plt.colorbar()\n",
    "plt.title(\"First Image in openEO.nc\")\n",
    "plt.show()\n",
    "\n",
    "dataset.close()"
   ]
  }
 ],
 "metadata": {
  "kernelspec": {
   "display_name": "Tesi",
   "language": "python",
   "name": "python3"
  },
  "language_info": {
   "name": "python",
   "version": "3.9.20"
  }
 },
 "nbformat": 4,
 "nbformat_minor": 2
}
