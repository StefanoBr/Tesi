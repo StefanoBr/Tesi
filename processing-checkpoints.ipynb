{
 "cells": [
  {
   "cell_type": "markdown",
   "id": "3f44547f-ab6b-4eaf-9cb0-548894f7e733",
   "metadata": {},
   "source": [
    "### Note well: this Notebook works for a single date [to be updated]"
   ]
  },
  {
   "cell_type": "markdown",
   "id": "7c0b78ee-a6dc-46e0-aee7-bdf5896bc7f2",
   "metadata": {},
   "source": [
    "## Pre-processing of model datasets"
   ]
  },
  {
   "cell_type": "markdown",
   "id": "bac0ce4b-d7e8-48a7-bdf0-826101a6686e",
   "metadata": {},
   "source": [
    "* Predictors and Landsat LST band: resampling to 10 m with NN\n",
    "* Predictors and Landsat LST band: raster grid alignment"
   ]
  },
  {
   "cell_type": "code",
   "execution_count": 3,
   "id": "635ab3bf-d4bd-4102-bc7b-de82048169e5",
   "metadata": {
    "tags": []
   },
   "outputs": [],
   "source": [
    "import os\n",
    "import numpy as np\n",
    "import matplotlib.pyplot as plt\n",
    "import rasterio\n",
    "from rasterio.merge import merge\n",
    "from rasterio.plot import show\n",
    "from rasterio.plot import show_hist\n",
    "from rasterio import mask\n",
    "from rasterio.warp import reproject, Resampling, calculate_default_transform\n",
    "from rasterio.enums import Resampling\n",
    "from rasterio.mask import mask\n",
    "from rasterio.features import rasterize\n",
    "from rasterio.transform import xy\n",
    "import ipywidgets as widgets\n",
    "import pandas as pd\n",
    "import geopandas as gpd\n",
    "from shapely.geometry import Polygon, Point\n",
    "from collections import Counter\n",
    "import sys\n",
    "from rasterio.crs import CRS"
   ]
  },
  {
   "cell_type": "markdown",
   "id": "53ab4aac-b4c3-4877-a32f-73ffae6c7a3c",
   "metadata": {},
   "source": [
    "### 1. Select the Sentinel-2 image date: the code retreives the corresponding Landsat 8 date"
   ]
  },
  {
   "cell_type": "markdown",
   "id": "74189a08",
   "metadata": {},
   "source": [
    "#### Option 1: manual image selection"
   ]
  },
  {
   "cell_type": "code",
   "execution_count": null,
   "id": "b265ab58-f527-4cbd-bb2d-9106c512e73b",
   "metadata": {
    "tags": []
   },
   "outputs": [],
   "source": [
    "# date_s2_w = widgets.Dropdown(\n",
    "#     options=['2022-08-09', '2023-02-15', '2023-03-22', '2023-06-25', '2023-11-17', '2024-02-05', '2024-05-10', '2024-07-14', '2024-07-29'], ##here, put all availables S2 dates\n",
    "#     value='2023-03-22',\n",
    "#     description='Sentinel-2 date:',\n",
    "#     disabled=False,\n",
    "#     layout={'width': 'max-content'},\n",
    "#     style = {'description_width': 'initial'}\n",
    "# )\n",
    "# date_s2_w"
   ]
  },
  {
   "cell_type": "code",
   "execution_count": null,
   "id": "9cdf7180",
   "metadata": {},
   "outputs": [],
   "source": [
    "#date_s2 = date_s2_w.value"
   ]
  },
  {
   "cell_type": "markdown",
   "id": "8aac2ec7",
   "metadata": {},
   "source": [
    "#### Option 2: Tagged cell as parameters and selection of a random parameters that will be rewriten by and extarnal file\n",
    "use this method if you intend to run with more than a single date"
   ]
  },
  {
   "cell_type": "code",
   "execution_count": null,
   "id": "a91b3767",
   "metadata": {
    "tags": [
     "parameters"
    ]
   },
   "outputs": [],
   "source": [
    "# The following parameters are just and example and will be rewritten by driver.py\n",
    "date_s2_w = '2017-02-16'\n",
    "season = \"Summer\"\n",
    "total_samples = 100\n",
    "combined = 1000"
   ]
  },
  {
   "cell_type": "code",
   "execution_count": null,
   "id": "9c87e693",
   "metadata": {},
   "outputs": [],
   "source": [
    "print(\"Selected Date:\", date_s2_w )\n",
    "date_s2 = date_s2_w"
   ]
  },
  {
   "cell_type": "markdown",
   "id": "34d14dae",
   "metadata": {},
   "source": [
    "#### Rest of the code"
   ]
  },
  {
   "cell_type": "code",
   "execution_count": 6,
   "id": "0d1e6a4f-ff95-4394-a3c3-8fca6d6f0af2",
   "metadata": {
    "tags": []
   },
   "outputs": [],
   "source": [
    "df = pd.read_csv('LST_L89/L8_corresponding_to_S2.csv', delimiter = ';')\n",
    "check = df['note'].loc[df['Sentinel_date'] == date_s2].values[0]"
   ]
  },
  {
   "cell_type": "code",
   "execution_count": null,
   "id": "a59166a4-6477-40b2-8c6d-5d7722cc413b",
   "metadata": {
    "tags": []
   },
   "outputs": [],
   "source": [
    "date_l8 = df['Landsat_date'].loc[df['Sentinel_date'] == date_s2].values[0]\n",
    "print(date_l8)\n",
    "file_l8 = f\"Average_LST_map_{season}.tif\"\n",
    "print(file_l8)"
   ]
  },
  {
   "cell_type": "markdown",
   "id": "e42c1a97-0dff-4590-923f-c8a7de8b63ac",
   "metadata": {},
   "source": [
    "### 2. Open predictors and response variable files"
   ]
  },
  {
   "cell_type": "code",
   "execution_count": 8,
   "id": "7302a982-1a7c-4c56-a156-c2204987fd5e",
   "metadata": {
    "tags": []
   },
   "outputs": [
    {
     "name": "stdout",
     "output_type": "stream",
     "text": [
      "E:\\TESI\\MODEL\\Input\\LST_L89\\Mediated_LST/Average_LST_map_Summer.tif\n"
     ]
    }
   ],
   "source": [
    "lst_file_path = os.path.join('E:\\TESI\\MODEL\\Input\\LST_L89\\Mediated_LST/', file_l8)\n",
    "print(lst_file_path)"
   ]
  },
  {
   "cell_type": "code",
   "execution_count": 9,
   "id": "de09dc67-988e-4d7a-9659-2fe1885903c8",
   "metadata": {
    "tags": []
   },
   "outputs": [],
   "source": [
    "BH_file_path = 'UCP/UCP_20m/BH.tif'\n",
    "BSF_file_path = 'UCP/UCP_20m/BSF.tif'\n",
    "IMD_file_path = 'UCP/UCP_20m/IMD.tif'\n",
    "SVF_file_path = 'UCP/UCP_20m/SVF.tif'\n",
    "TCH_file_path = 'UCP/UCP_20m/TCH.tif'"
   ]
  },
  {
   "cell_type": "code",
   "execution_count": 10,
   "id": "7531f484-0029-4d36-8ed4-219345e2603f",
   "metadata": {
    "tags": []
   },
   "outputs": [],
   "source": [
    "fractions = 'Fractions/Final_Class_Fraction_Layer_Masked_' + date_s2 + '.tif'"
   ]
  },
  {
   "cell_type": "markdown",
   "id": "e6c0ba48-6943-462f-8ed2-63fad82056cf",
   "metadata": {},
   "source": [
    "### 3. Resample the predictors and response variable to 10 m and save to file"
   ]
  },
  {
   "cell_type": "code",
   "execution_count": 11,
   "id": "402f6550-f375-4117-bf2a-911a22c31fb4",
   "metadata": {
    "tags": []
   },
   "outputs": [],
   "source": [
    "input_predictors = [\n",
    "    lst_file_path,\n",
    "    BH_file_path,\n",
    "    BSF_file_path,\n",
    "    IMD_file_path,\n",
    "    SVF_file_path,\n",
    "    TCH_file_path,\n",
    "    fractions\n",
    "]"
   ]
  },
  {
   "cell_type": "code",
   "execution_count": null,
   "id": "e2de93e5-ae1c-4908-8524-779391fe6db1",
   "metadata": {
    "tags": []
   },
   "outputs": [],
   "source": [
    "for input_path in input_predictors:\n",
    "    \n",
    "    output_path = input_path[:-4] + '_10m.tif'\n",
    "    \n",
    "    if not os.path.exists(output_path):\n",
    "        with rasterio.open(input_path) as src:\n",
    "            src_crs = src.crs or CRS.from_epsg(32632)\n",
    "            dst_resolution = 10\n",
    "\n",
    "            transform, width, height = calculate_default_transform(\n",
    "                src_crs, src_crs, src.width, src.height, *src.bounds, resolution=dst_resolution\n",
    "            )\n",
    "\n",
    "            kwargs = src.meta.copy()\n",
    "            kwargs.update({\n",
    "                'transform': transform,\n",
    "                'width': width,\n",
    "                'height': height,\n",
    "                'res': (dst_resolution, dst_resolution),\n",
    "                'compress': 'lzw'\n",
    "            })\n",
    "\n",
    "            with rasterio.open(output_path, 'w', **kwargs) as dst:\n",
    "                \n",
    "                for i in range(1, src.count + 1):\n",
    "                    reproject(\n",
    "                        source=rasterio.band(src, i),\n",
    "                        destination=rasterio.band(dst, i),\n",
    "                        src_transform=src.transform,\n",
    "                        src_crs=src.crs,\n",
    "                        dst_transform=transform,\n",
    "                        dst_crs=src.crs,\n",
    "                        resampling=Resampling.nearest\n",
    "                    )\n",
    "        print(f\"Processed: {output_path}\")\n",
    "    else:\n",
    "        print(f\"Skipped (already exists): {output_path}\")"
   ]
  },
  {
   "cell_type": "markdown",
   "id": "f3f603ba-a922-4fd5-906a-ef5eabe1ba29",
   "metadata": {},
   "source": [
    "### 4. Align predictors and response variable (10 m rasters): reference is Fractions"
   ]
  },
  {
   "cell_type": "code",
   "execution_count": 17,
   "id": "61d3eb2a-8b50-409c-b2ed-fb77cb8c413b",
   "metadata": {
    "tags": []
   },
   "outputs": [],
   "source": [
    "reference = fractions[:-4] + '_10m.tif'"
   ]
  },
  {
   "cell_type": "code",
   "execution_count": 18,
   "id": "0507a493-2190-4fea-92f1-0469405f2838",
   "metadata": {
    "tags": []
   },
   "outputs": [],
   "source": [
    "input_rasters = [\n",
    "    BH_file_path[:-4] + '_10m.tif',\n",
    "    BSF_file_path[:-4] + '_10m.tif',\n",
    "    IMD_file_path[:-4] + '_10m.tif',\n",
    "    SVF_file_path[:-4] + '_10m.tif',\n",
    "    TCH_file_path[:-4] + '_10m.tif',\n",
    "    lst_file_path[:-4] + '_10m.tif'\n",
    "]"
   ]
  },
  {
   "cell_type": "code",
   "execution_count": null,
   "id": "722e0df4-cf20-44a1-ae34-3fadd0b2d950",
   "metadata": {
    "tags": []
   },
   "outputs": [],
   "source": [
    "with rasterio.open(reference) as ref:\n",
    "    ref_crs = ref.crs or CRS.from_epsg(32632)\n",
    "    ref_transform = ref.transform\n",
    "    ref_width = ref.width\n",
    "    ref_height = ref.height\n",
    "\n",
    "for raster_path in input_rasters:\n",
    "    with rasterio.open(raster_path) as src:\n",
    "        profile = src.profile\n",
    "        profile.update({\n",
    "            'crs': ref_crs,\n",
    "            'transform': ref_transform,\n",
    "            'width': ref_width,\n",
    "            'height': ref_height\n",
    "        })\n",
    "\n",
    "        # Create an empty array to store the aligned data\n",
    "        aligned = np.empty((ref_height, ref_width), dtype=src.dtypes[0])\n",
    "\n",
    "        # Reproject and resample from source to aligned array\n",
    "        reproject(\n",
    "            source=src.read(1),  # Read band 1\n",
    "            destination=aligned,\n",
    "            src_transform=src.transform,\n",
    "            src_crs=src.crs,\n",
    "            dst_transform=ref_transform,\n",
    "            dst_crs=ref_crs,\n",
    "            resampling=Resampling.nearest\n",
    "        )\n",
    "\n",
    "    # Overwrite the original file with the aligned version\n",
    "    with rasterio.open(raster_path, 'w', **profile) as dst:\n",
    "        dst.write(aligned, 1)\n",
    "\n",
    "    print(f'Aligned and overwritten: {raster_path}')"
   ]
  },
  {
   "cell_type": "markdown",
   "id": "cd5c72be-1137-4a1c-94dc-5735f884c6de",
   "metadata": {},
   "source": [
    "## Extraction of sample points for model training"
   ]
  },
  {
   "cell_type": "markdown",
   "id": "b9c6a0ea-a81d-4853-aef8-811810f3dd8c",
   "metadata": {},
   "source": [
    "Constraints:\n",
    "1. points must not be placed outside the area of interest (AOI)\n",
    "2. points must not be placed in areas with NoData (both in predictors and LST)\n",
    "3. points must not be placed in areas with land consumption variations between 2015-2023\n",
    "\n",
    "(For the first three constraints, create a validity mask)\n",
    "\n",
    "4. stratified extraction of N points across LCZs (note: merge *LCZs Bare Soil or Sand* and *Low Plants*)"
   ]
  },
  {
   "cell_type": "markdown",
   "id": "cd0337c0-2a3e-4065-92b5-d4aa73f9c930",
   "metadata": {},
   "source": [
    "### 1. Create a validity mask to extract sample points: the mask refers to Sentinel-2 date"
   ]
  },
  {
   "cell_type": "code",
   "execution_count": null,
   "id": "0771a7bf-5e17-4c35-aef9-20bea353875b",
   "metadata": {
    "tags": []
   },
   "outputs": [],
   "source": [
    "# --- Inputs ---\n",
    "raster_paths = [\n",
    "    lst_file_path[:-4] + '_10m.tif',\n",
    "    BH_file_path[:-4] + '_10m.tif',\n",
    "    BSF_file_path[:-4] + '_10m.tif',\n",
    "    IMD_file_path[:-4] + '_10m.tif',\n",
    "    SVF_file_path[:-4] + '_10m.tif',\n",
    "    TCH_file_path[:-4] + '_10m.tif',\n",
    "    fractions[:-4] + '_10m.tif'\n",
    "]\n",
    "\n",
    "aoi_path = 'AOI/AOI.shp'\n",
    "validations_path = 'validation/validation_areas/change_area_CMM_dissolved_buffer30m_no_holes.gpkg'\n",
    "output_path = season + '_binary_mask_' + date_s2.replace('-', '') + '.tif'"
   ]
  },
  {
   "cell_type": "code",
   "execution_count": 38,
   "id": "d2300f14",
   "metadata": {},
   "outputs": [],
   "source": [
    "validations_path = 'validation/validation_areas/change_area_CMM_dissolved_buffer30m_no_holes.gpkg'"
   ]
  },
  {
   "cell_type": "code",
   "execution_count": 39,
   "id": "f255c53b-30b7-4349-b88c-063cf9ec17dd",
   "metadata": {
    "tags": []
   },
   "outputs": [],
   "source": [
    "# --- Use the first raster as the reference ---\n",
    "with rasterio.open(raster_paths[0]) as ref:\n",
    "    meta = ref.meta.copy()\n",
    "    meta.update(dtype='uint8', count=1, nodata=0)\n",
    "    transform = ref.transform\n",
    "    crs = ref.crs\n",
    "    width = ref.width\n",
    "    height = ref.height\n",
    "    shape = (height, width)"
   ]
  },
  {
   "cell_type": "code",
   "execution_count": null,
   "id": "f3c03305-ba1a-46ad-9cdc-1fbc4518a141",
   "metadata": {
    "tags": []
   },
   "outputs": [],
   "source": [
    "# --- Step 1: Identify NoData pixels across all rasters ---\n",
    "nodata_mask = np.zeros(shape, dtype=bool)\n",
    "\n",
    "# Path to the 10 m LST file so we can recognise it inside the loop\n",
    "for path in raster_paths:\n",
    "    with rasterio.open(path) as src:\n",
    "        data = src.read(1, masked=True)  # returns a MaskedArray\n",
    "        # Masked pixels are treated as NoData\n",
    "        nodata_mask |= data.mask\n",
    "        # 2b. Extra rule: in the LST layer, value 149 means \"invalid\" - LST from Landsat 8/9 in kelvin set 149 as NoData value\n",
    "        if path == lst_file_path[:-4] + '_10m.tif':\n",
    "            nodata_mask |= (data.data == 149) | np.isnan(data.data)"
   ]
  },
  {
   "cell_type": "code",
   "execution_count": 41,
   "id": "bcf07bcf-3df6-4bf2-bf55-0fbaf82d0899",
   "metadata": {
    "tags": []
   },
   "outputs": [],
   "source": [
    "# --- Step 2: Rasterize AOI (inside = 1, outside = 0) ---\n",
    "aoi = gpd.read_file(aoi_path).to_crs(crs)\n",
    "aoi_mask = rasterize(\n",
    "    [(geom, 1) for geom in aoi.geometry],\n",
    "    out_shape=shape,\n",
    "    transform=transform,\n",
    "    fill=0,\n",
    "    all_touched=False,\n",
    "    dtype='uint8'\n",
    ")"
   ]
  },
  {
   "cell_type": "code",
   "execution_count": 42,
   "id": "febd9de0-0a8f-4b16-83a0-aef15e4b8d91",
   "metadata": {
    "tags": []
   },
   "outputs": [],
   "source": [
    "# --- Step 3: Rasterize validations (mask = 1 inside polygons) ---\n",
    "validations = gpd.read_file(validations_path).to_crs(crs)\n",
    "validation_mask = rasterize(\n",
    "    [(geom, 1) for geom in validations.geometry],\n",
    "    out_shape=shape,\n",
    "    transform=transform,\n",
    "    fill=0,\n",
    "    all_touched=False,\n",
    "    dtype='uint8'\n",
    ")"
   ]
  },
  {
   "cell_type": "code",
   "execution_count": 43,
   "id": "9ed14472-8bfb-4718-8f3e-469564ea15be",
   "metadata": {
    "tags": []
   },
   "outputs": [],
   "source": [
    "# --- Step 4: Combine all masks ---\n",
    "# Start with full ones (valid area), then mask out with zeros\n",
    "final_mask = np.ones(shape, dtype='uint8')\n",
    "final_mask[nodata_mask] = 0\n",
    "final_mask[aoi_mask == 0] = 0\n",
    "final_mask[validation_mask == 1] = 0"
   ]
  },
  {
   "cell_type": "code",
   "execution_count": null,
   "id": "f9e5d2c0-57f3-4278-9bca-b979d99b8e25",
   "metadata": {
    "tags": []
   },
   "outputs": [],
   "source": [
    "# --- Step 5: Save result ---\n",
    "with rasterio.open('masks/' + output_path, 'w', **meta) as dst:\n",
    "    dst.write(final_mask, 1)\n",
    "\n",
    "print(f\"Binary mask saved to {output_path}\")"
   ]
  },
  {
   "cell_type": "markdown",
   "id": "8aeae6af-d3aa-44fa-9e9e-b36e82430553",
   "metadata": {},
   "source": [
    "### 2. Open the LCZ map, resample it to 10 m and align it to the other rasters (if not done already)"
   ]
  },
  {
   "cell_type": "code",
   "execution_count": null,
   "id": "7fcd0695-1565-4e12-962b-f07a9e9d2c04",
   "metadata": {
    "tags": []
   },
   "outputs": [],
   "source": [
    "from datetime import datetime\n",
    "\n",
    "# Convert the date_s2 to datetime object\n",
    "dt = datetime.strptime(date_s2, '%Y-%m-%d')\n",
    "month = dt.month\n",
    "\n",
    "# Determine lcz_date based on month\n",
    "if month in [12, 1, 2, 3]:\n",
    "    lcz_date = '2023-03-22'\n",
    "elif month in [6, 7, 8, 9]:\n",
    "    lcz_date = '2023-06-25'\n",
    "else:\n",
    "    lcz_date = '2023-11-17'\n",
    "\n",
    "print(lcz_date)"
   ]
  },
  {
   "cell_type": "code",
   "execution_count": 46,
   "id": "d4181f75-bee8-424c-8eaa-4abdbc91698e",
   "metadata": {
    "tags": []
   },
   "outputs": [],
   "source": [
    "# Open LCZ raster\n",
    "with rasterio.open('LCZ/classified_Random Forest_' + lcz_date.replace('-', '') + '_20m.tif') as lcz_src:\n",
    "    lcz_data = lcz_src.read(1).astype('float32')  # To allow np.nan\n",
    "    lcz_crs = lcz_src.crs\n",
    "    lcz_transform = lcz_src.transform"
   ]
  },
  {
   "cell_type": "code",
   "execution_count": 47,
   "id": "685e2af9-e0fb-4ae6-8e25-31672edbd1fb",
   "metadata": {
    "tags": []
   },
   "outputs": [],
   "source": [
    "# Open final_mask raster to get 10m alignment\n",
    "with rasterio.open('masks/' + output_path) as mask_src:\n",
    "    target_shape = (mask_src.height, mask_src.width)\n",
    "    target_transform = mask_src.transform\n",
    "    target_crs = mask_src.crs\n",
    "    target_profile = mask_src.profile.copy()\n",
    "    target_profile.update({\n",
    "        'dtype': 'float32',\n",
    "        'nodata': np.nan,\n",
    "        'count': 1\n",
    "    })"
   ]
  },
  {
   "cell_type": "code",
   "execution_count": 48,
   "id": "16293592-4b41-4871-a23b-313cae28e43b",
   "metadata": {
    "tags": []
   },
   "outputs": [],
   "source": [
    "# Prepare output array and metadata\n",
    "resampled_lcz = np.full(target_shape, np.nan, dtype='float32')"
   ]
  },
  {
   "cell_type": "code",
   "execution_count": null,
   "id": "4d7ca429-30bf-4cf4-85cf-dc9743de0124",
   "metadata": {
    "tags": []
   },
   "outputs": [],
   "source": [
    "# Reproject (resample + align)\n",
    "reproject(\n",
    "    source=lcz_data,\n",
    "    destination=resampled_lcz,\n",
    "    src_transform=lcz_transform,\n",
    "    src_crs=lcz_crs,\n",
    "    dst_transform=target_transform,\n",
    "    dst_crs=target_crs,\n",
    "    resampling=Resampling.nearest,\n",
    "    dst_nodata=np.nan  # Ensure nodata stays as NaN\n",
    ")"
   ]
  },
  {
   "cell_type": "code",
   "execution_count": null,
   "id": "93aecd1c-ce0c-44a3-9c80-66140e3958a2",
   "metadata": {
    "tags": []
   },
   "outputs": [],
   "source": [
    "output_path = f'LCZ/classified_Random Forest_' + lcz_date.replace('-', '') + '_10m.tif'\n",
    "\n",
    "if not os.path.exists(output_path):\n",
    "    with rasterio.open(output_path, 'w', **target_profile) as dst:\n",
    "        dst.write(resampled_lcz, 1)\n",
    "    print(f\"Resampled LCZ saved to: {output_path}\")\n",
    "else:\n",
    "    print(f\"File already exists: {output_path}\")"
   ]
  },
  {
   "cell_type": "markdown",
   "id": "0c4c363d-116a-43ce-b213-2dbc7403f212",
   "metadata": {},
   "source": [
    "### 3. Open LCZ (10m) and validity mask and mask LCZ with nans, merge the classes 104 and 106"
   ]
  },
  {
   "cell_type": "code",
   "execution_count": null,
   "id": "e544b675-87d4-4653-92a8-bb8de1157b70",
   "metadata": {
    "tags": []
   },
   "outputs": [],
   "source": [
    "# --- Open LCZ and mask rasters ---\n",
    "with rasterio.open('LCZ/classified_Random Forest_' + lcz_date.replace('-', '') + '_10m.tif') as lcz_src:\n",
    "    lcz = lcz_src.read(1).astype('float32')  # To support np.nan\n",
    "\n",
    "with rasterio.open('masks/' + season + '_binary_mask_' + date_s2.replace('-', '') + '.tif') as mask_src:\n",
    "    mask = mask_src.read(1)"
   ]
  },
  {
   "cell_type": "code",
   "execution_count": 52,
   "id": "b5816b1a-e26e-4b1b-8a72-09087216b157",
   "metadata": {
    "tags": []
   },
   "outputs": [],
   "source": [
    "# --- Step 1: Set LCZ pixels to NaN where mask is 0 ---\n",
    "lcz[mask == 0] = np.nan"
   ]
  },
  {
   "cell_type": "code",
   "execution_count": 53,
   "id": "008612f3-f47d-4a94-8a4f-630435746b97",
   "metadata": {
    "tags": []
   },
   "outputs": [],
   "source": [
    "# --- Step 2: Replace LCZ values 106 and 104 with 1046 ---\n",
    "lcz[np.isin(lcz, [104, 106])] = 1046"
   ]
  },
  {
   "cell_type": "markdown",
   "id": "c03d0a03-c900-4a6f-bb8a-d0257d56e410",
   "metadata": {},
   "source": [
    "### 4. Extract N points within the validity mask and in each LCZ class (stratified random sampling) [NB: we could directly divide here into training/testing based on LCZs]"
   ]
  },
  {
   "cell_type": "code",
   "execution_count": 54,
   "id": "f7352836-e88a-47a3-b1b2-fd134d5edafa",
   "metadata": {
    "tags": []
   },
   "outputs": [],
   "source": [
    "# --- Mask to valid pixels (non-NaN) ---\n",
    "valid_mask = ~np.isnan(lcz)\n",
    "valid_indices = np.argwhere(valid_mask)\n",
    "valid_values = lcz[valid_mask]"
   ]
  },
  {
   "cell_type": "code",
   "execution_count": 55,
   "id": "fea4fcca-697c-4846-b4e9-ad6755bad15d",
   "metadata": {
    "tags": []
   },
   "outputs": [],
   "source": [
    "# --- Count number of pixels per LCZ class ---\n",
    "counts = Counter(valid_values.astype(int))\n",
    "total_valid_pixels = sum(counts.values())"
   ]
  },
  {
   "cell_type": "code",
   "execution_count": 56,
   "id": "fbb9431c-2bcc-4186-a9f4-eb22d8225038",
   "metadata": {
    "tags": []
   },
   "outputs": [],
   "source": [
    "# --- Determine number of samples per class, proportional to pixel count ---\n",
    "samples_per_class = {\n",
    "    val: int(round(total_samples * count / total_valid_pixels))\n",
    "    for val, count in counts.items()\n",
    "}"
   ]
  },
  {
   "cell_type": "code",
   "execution_count": 57,
   "id": "cc4253d0-522e-4b65-b006-de94bd8a5db9",
   "metadata": {
    "tags": []
   },
   "outputs": [],
   "source": [
    "# --- Sample coordinates for each class ---\n",
    "sampled_points = []\n",
    "\n",
    "for lcz_value, n_samples in samples_per_class.items():\n",
    "    # Get indices for this class\n",
    "    class_indices = valid_indices[valid_values == lcz_value]\n",
    "    \n",
    "    # Randomly sample n indices\n",
    "    if len(class_indices) >= n_samples:\n",
    "        sampled = class_indices[np.random.choice(len(class_indices), n_samples, replace=False)]\n",
    "    else:\n",
    "        sampled = class_indices  # If fewer pixels than requested, take all\n",
    "\n",
    "    for row, col in sampled:\n",
    "        x, y = xy(transform, row, col)\n",
    "        sampled_points.append({\n",
    "            'geometry': Point(x, y),\n",
    "            'LCZ': int(lcz_value)\n",
    "        })"
   ]
  },
  {
   "cell_type": "code",
   "execution_count": null,
   "id": "30959310-e0f3-4945-a088-5c643920476c",
   "metadata": {
    "tags": []
   },
   "outputs": [],
   "source": [
    "# --- Create GeoDataFrame ---\n",
    "gdf = gpd.GeoDataFrame(sampled_points, crs=crs)\n",
    "gdf.to_file(f'masks/{season}_sampled_points_' + date_s2.replace('-', '') + f'_{combined}.gpkg', driver=\"GPKG\")"
   ]
  },
  {
   "cell_type": "code",
   "execution_count": null,
   "id": "2f580d8a",
   "metadata": {},
   "outputs": [],
   "source": [
    "gdf"
   ]
  },
  {
   "cell_type": "code",
   "execution_count": 61,
   "id": "5e0791fe",
   "metadata": {},
   "outputs": [],
   "source": [
    "df = pd.read_csv('LST_L89/L8_corresponding_to_S2.csv', delimiter = ';')\n",
    "#print(df)\n",
    "check = df['note'].loc[df['Sentinel_date'] == date_s2].values[0]"
   ]
  },
  {
   "cell_type": "code",
   "execution_count": null,
   "id": "fcdc8ef5",
   "metadata": {},
   "outputs": [],
   "source": [
    "date_l8 = df['Landsat_date'].loc[df['Sentinel_date'] == date_s2].values[0]\n",
    "print(date_l8)\n",
    "file_l8 = f\"Average_LST_map_{season}.tif\"\n",
    "print(file_l8)"
   ]
  },
  {
   "cell_type": "code",
   "execution_count": null,
   "id": "62bdbeeb",
   "metadata": {},
   "outputs": [],
   "source": [
    "gdf = gpd.read_file(f'masks/{season}_sampled_points_' + date_s2.replace('-','') + f'_{combined}.gpkg')\n",
    "print(gdf)"
   ]
  },
  {
   "cell_type": "code",
   "execution_count": 64,
   "id": "e8551630",
   "metadata": {},
   "outputs": [],
   "source": [
    "# === Step 2: List of raster files to sample ===\n",
    "rasters = {\n",
    "    'LST': 'E:\\TESI\\MODEL\\Input\\LST_L89\\Mediated_LST/' + file_l8[:-4] + '_10m.tif',\n",
    "    'BH': 'UCP/UCP_20m/BH_10m.tif',\n",
    "    'BSF': 'UCP/UCP_20m/BSF_10m.tif',\n",
    "    'IMD': 'UCP/UCP_20m/IMD_10m.tif',\n",
    "    'SVF': 'UCP/UCP_20m/SVF_10m.tif',\n",
    "    'TCH': 'UCP/UCP_20m/TCH_10m.tif',\n",
    "    'Fractions': ('Fractions/Final_Class_Fraction_Layer_Masked_' + date_s2 + '_10m.tif', \n",
    "                 ['F_S', 'F_M', 'F_AC', 'F_BS', 'F_TV', 'F_W', 'F_G'])\n",
    "}"
   ]
  },
  {
   "cell_type": "markdown",
   "id": "a2df1119",
   "metadata": {},
   "source": [
    "### 2. Sample predictors and LST at the point locations and save the values in a dataframe"
   ]
  },
  {
   "cell_type": "code",
   "execution_count": 65,
   "id": "3d71cb96",
   "metadata": {},
   "outputs": [],
   "source": [
    "# === Step 3: Prepare output DataFrame ===\n",
    "df = pd.DataFrame()\n",
    "df[\"geometry\"] = gdf.geometry"
   ]
  },
  {
   "cell_type": "code",
   "execution_count": null,
   "id": "b113d35f",
   "metadata": {},
   "outputs": [],
   "source": [
    "from rasterstats import point_query\n",
    "from shapely.geometry import mapping\n",
    "# === Step 4: Sample rasters ===\n",
    "for key, raster_info in rasters.items():\n",
    "    if isinstance(raster_info, str):\n",
    "        # Single-band raster\n",
    "        df[key] = point_query(gdf, raster_info) #, nodata=-9999\n",
    "    else:\n",
    "        # Multi-band raster with custom band names\n",
    "        raster_path, band_names = raster_info\n",
    "        with rasterio.open(raster_path) as src:\n",
    "            coords = [mapping(geom)[\"coordinates\"] for geom in gdf.geometry]\n",
    "            samples = list(src.sample(coords))  # List of tuples (one per point)\n",
    "\n",
    "            # Validate band count\n",
    "            if src.count < len(band_names):\n",
    "                raise ValueError(f\"Raster '{raster_path}' has fewer bands than band names provided.\")\n",
    "\n",
    "            # Extract each band's value\n",
    "            for i, band_name in enumerate(band_names):\n",
    "                col_name = f\"{key}_{band_name}\"  # e.g., sentinel2_red\n",
    "                df[col_name] = [s[i] if s is not None else None for s in samples]"
   ]
  },
  {
   "cell_type": "code",
   "execution_count": 67,
   "id": "615d72fe",
   "metadata": {},
   "outputs": [],
   "source": [
    "# === Step 4: Optional: Combine with original attributes ===\n",
    "df_full = pd.concat([gdf.reset_index(drop=True).drop(columns=\"geometry\"), df], axis=1)"
   ]
  },
  {
   "cell_type": "code",
   "execution_count": null,
   "id": "eea41de5",
   "metadata": {},
   "outputs": [],
   "source": [
    "df_full"
   ]
  },
  {
   "cell_type": "code",
   "execution_count": null,
   "id": "ca64b600",
   "metadata": {},
   "outputs": [],
   "source": [
    "# Combine attributes and geometry\n",
    "df_full_gdf = gpd.GeoDataFrame(df_full, geometry=gdf.geometry, crs=gdf.crs)\n",
    "\n",
    "# Construct output path\n",
    "output_path = f'masks/{season}_sampled_points_' + date_s2.replace('-', '') + f'_{combined}_all_bands.gpkg'\n",
    "\n",
    "# Ensure directory exists\n",
    "#os.makedirs(os.path.dirname(output_path), exist_ok=True)\n",
    "\n",
    "# Save to GeoPackage\n",
    "df_full_gdf.to_file(output_path, driver='GPKG')\n",
    "\n",
    "print(f\"Saved to: {output_path}\")"
   ]
  },
  {
   "cell_type": "code",
   "execution_count": null,
   "id": "ceca4620",
   "metadata": {},
   "outputs": [],
   "source": [
    "df_full_gdf"
   ]
  }
 ],
 "metadata": {
  "kernelspec": {
   "display_name": "Tesi",
   "language": "python",
   "name": "python3"
  },
  "language_info": {
   "codemirror_mode": {
    "name": "ipython",
    "version": 3
   },
   "file_extension": ".py",
   "mimetype": "text/x-python",
   "name": "python",
   "nbconvert_exporter": "python",
   "pygments_lexer": "ipython3",
   "version": "3.9.20"
  }
 },
 "nbformat": 4,
 "nbformat_minor": 5
}
